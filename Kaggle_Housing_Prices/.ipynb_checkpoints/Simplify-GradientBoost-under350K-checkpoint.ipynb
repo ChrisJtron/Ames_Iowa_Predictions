{
 "cells": [
  {
   "cell_type": "code",
   "execution_count": null,
   "metadata": {},
   "outputs": [],
   "source": [
    "import pandas as pd\n",
    "import numpy as np\n",
    "import matplotlib.pyplot as plt"
   ]
  },
  {
   "cell_type": "code",
   "execution_count": null,
   "metadata": {
    "scrolled": true
   },
   "outputs": [],
   "source": [
    "# Retrieve Training Data\n",
    "## Ends at ID 1460\n",
    "\n",
    "train_data=pd.read_csv(\"../Kaggle_Housing_Prices/train.csv\")\n",
    "pd.options.display.max_columns=None\n",
    "train_data.tail(2)"
   ]
  },
  {
   "cell_type": "code",
   "execution_count": null,
   "metadata": {
    "scrolled": true
   },
   "outputs": [],
   "source": [
    "# Retrieve Test Data\n",
    "## Begins at ID 1461\n",
    "\n",
    "test_data=pd.read_csv(\"../Kaggle_Housing_Prices/test.csv\")\n",
    "pd.options.display.max_columns=None\n",
    "test_data.head(2)"
   ]
  },
  {
   "cell_type": "code",
   "execution_count": null,
   "metadata": {
    "scrolled": true
   },
   "outputs": [],
   "source": [
    "train_data.hist(figsize=(15,10))\n",
    "plt.show()"
   ]
  },
  {
   "cell_type": "code",
   "execution_count": null,
   "metadata": {
    "scrolled": true
   },
   "outputs": [],
   "source": [
    "test_data.hist(figsize=(15,10))\n",
    "plt.show()"
   ]
  },
  {
   "cell_type": "code",
   "execution_count": null,
   "metadata": {},
   "outputs": [],
   "source": [
    "# Combine the 2 dataframes for Feature Engineering and Normalization\n",
    "\n",
    "all_data=pd.concat([train_data, test_data])"
   ]
  },
  {
   "cell_type": "code",
   "execution_count": null,
   "metadata": {},
   "outputs": [],
   "source": [
    "all_data.reset_index(inplace=True)\n",
    "all_data.drop('index', axis=1, inplace=True)\n",
    "len(all_data)"
   ]
  },
  {
   "cell_type": "code",
   "execution_count": null,
   "metadata": {
    "scrolled": true
   },
   "outputs": [],
   "source": [
    "# Garage Year Built has an obvious error. Says built in 2200.  Fill NaN's with 0, then change 2200 to 2010\n",
    "\n",
    "all_data['GarageYrBlt'].fillna(0, inplace=True)\n",
    "\n",
    "all_data.loc[all_data['GarageYrBlt']>2010, 'GarageYrBlt']=np.nan\n",
    "all_data['GarageYrBlt'].fillna(2010, inplace=True)\n",
    "all_data['GarageYrBlt'].loc[all_data['GarageYrBlt']>10].hist()"
   ]
  },
  {
   "cell_type": "code",
   "execution_count": null,
   "metadata": {},
   "outputs": [],
   "source": [
    "clean_df=all_data.copy()"
   ]
  },
  {
   "cell_type": "markdown",
   "metadata": {},
   "source": [
    "### Null Values"
   ]
  },
  {
   "cell_type": "code",
   "execution_count": null,
   "metadata": {},
   "outputs": [],
   "source": [
    "## Many houses do not have basements.  fill basement NaN's with 'none'\n",
    "clean_df['BsmtQual'].fillna('none', inplace=True)\n",
    "clean_df['BsmtCond'].fillna('none', inplace=True)\n",
    "clean_df['BsmtExposure'].fillna('none', inplace=True)\n",
    "clean_df['BsmtFinType1'].fillna('none', inplace=True)\n",
    "clean_df['BsmtFinType2'].fillna('none', inplace=True)"
   ]
  },
  {
   "cell_type": "code",
   "execution_count": null,
   "metadata": {},
   "outputs": [],
   "source": [
    "## fill Alley NaN's with 'none'\n",
    "clean_df['Alley'].fillna('none', inplace=True)\n",
    "\n",
    "## fil Lot Frontage with Median\n",
    "median=clean_df['LotFrontage'].median()\n",
    "clean_df['LotFrontage'].fillna(median, inplace=True)"
   ]
  },
  {
   "cell_type": "code",
   "execution_count": null,
   "metadata": {},
   "outputs": [],
   "source": [
    "## fill NaN Electrical with SBrkr\n",
    "clean_df['Electrical'].fillna('SBrkr', inplace=True)"
   ]
  },
  {
   "cell_type": "code",
   "execution_count": null,
   "metadata": {},
   "outputs": [],
   "source": [
    "## fil fireplaceQual NaN's with 'none'\n",
    "clean_df['FireplaceQu'].fillna('none', inplace=True)"
   ]
  },
  {
   "cell_type": "code",
   "execution_count": null,
   "metadata": {},
   "outputs": [],
   "source": [
    "## take care of garage NaN's\n",
    "\n",
    "clean_df['GarageType'].fillna('none', inplace=True)\n",
    "clean_df['GarageYrBlt'].fillna(0, inplace=True)\n",
    "clean_df['GarageFinish'].fillna('none', inplace=True)\n",
    "clean_df['GarageQual'].fillna('none', inplace=True)\n",
    "clean_df['GarageCond'].fillna('none', inplace=True)"
   ]
  },
  {
   "cell_type": "code",
   "execution_count": null,
   "metadata": {},
   "outputs": [],
   "source": [
    "## Drop pool and MiscFeature columns\n",
    "clean_df.drop(['PoolQC', 'PoolArea', 'MiscFeature'], axis=1, inplace=True)"
   ]
  },
  {
   "cell_type": "code",
   "execution_count": null,
   "metadata": {},
   "outputs": [],
   "source": [
    "clean_df['Fence'].fillna('none', inplace=True)\n",
    "clean_df['MasVnrType'].fillna('none', inplace=True)\n",
    "clean_df['MasVnrArea'].fillna(0, inplace=True)"
   ]
  },
  {
   "cell_type": "code",
   "execution_count": null,
   "metadata": {},
   "outputs": [],
   "source": [
    "clean_df['MSZoning'].value_counts()\n",
    "clean_df['MSZoning'].fillna('RL', inplace=True)"
   ]
  },
  {
   "cell_type": "code",
   "execution_count": null,
   "metadata": {},
   "outputs": [],
   "source": []
  },
  {
   "cell_type": "code",
   "execution_count": null,
   "metadata": {},
   "outputs": [],
   "source": [
    "clean_df['BsmtFinSF1'].fillna(0, inplace=True)\n",
    "clean_df['BsmtFinSF2'].fillna(0, inplace=True)\n",
    "clean_df['BsmtUnfSF'].fillna(0, inplace=True)\n",
    "clean_df['TotalBsmtSF'].fillna(0, inplace=True)"
   ]
  },
  {
   "cell_type": "code",
   "execution_count": null,
   "metadata": {},
   "outputs": [],
   "source": [
    "clean_df['Utilities'].value_counts()\n",
    "# Fill Utilities NaN with AllPub\n",
    "clean_df['Utilities'].fillna('AllPub', inplace=True)"
   ]
  },
  {
   "cell_type": "code",
   "execution_count": null,
   "metadata": {},
   "outputs": [],
   "source": [
    "clean_df['Exterior1st'].value_counts()\n",
    "# Fill with VinylSd\n",
    "clean_df['Exterior1st'].fillna('VinylSd', inplace=True)"
   ]
  },
  {
   "cell_type": "code",
   "execution_count": null,
   "metadata": {},
   "outputs": [],
   "source": [
    "clean_df['Exterior2nd'].value_counts()\n",
    "# Fill with VinylSd\n",
    "clean_df['Exterior2nd'].fillna('VinylSd', inplace=True)"
   ]
  },
  {
   "cell_type": "code",
   "execution_count": null,
   "metadata": {},
   "outputs": [],
   "source": [
    "clean_df['BsmtFullBath'].fillna(0, inplace=True)\n",
    "clean_df['BsmtHalfBath'].fillna(0, inplace=True)"
   ]
  },
  {
   "cell_type": "code",
   "execution_count": null,
   "metadata": {},
   "outputs": [],
   "source": [
    "clean_df['KitchenQual'].value_counts()\n",
    "clean_df['KitchenQual'].fillna('Gd', inplace=True)"
   ]
  },
  {
   "cell_type": "code",
   "execution_count": null,
   "metadata": {},
   "outputs": [],
   "source": [
    "## take care of garage NaN's\n",
    "clean_df['GarageCars'].fillna(1, inplace=True)\n",
    "clean_df['GarageArea'].fillna(200, inplace=True)"
   ]
  },
  {
   "cell_type": "code",
   "execution_count": null,
   "metadata": {},
   "outputs": [],
   "source": [
    "clean_df['Functional'].value_counts()\n",
    "clean_df['Functional'].fillna('Typ', inplace=True)"
   ]
  },
  {
   "cell_type": "code",
   "execution_count": null,
   "metadata": {},
   "outputs": [],
   "source": [
    "clean_df['SaleType'].value_counts()\n",
    "clean_df['SaleType'].fillna('WD', inplace=True)"
   ]
  },
  {
   "cell_type": "code",
   "execution_count": null,
   "metadata": {},
   "outputs": [],
   "source": [
    "### No more NaN's in dataset\n",
    "pd.options.display.max_rows=None\n",
    "clean_df.isnull().sum()"
   ]
  },
  {
   "cell_type": "markdown",
   "metadata": {},
   "source": [
    "### Quality can be numerical"
   ]
  },
  {
   "cell_type": "code",
   "execution_count": null,
   "metadata": {},
   "outputs": [],
   "source": [
    "clean_df.replace({'Ex': 5, 'Gd': 4, 'TA': 3, 'Fa': 2, 'Po': 1, 'none': 0, 'None': 0}, inplace=True)\n",
    "clean_df.head(2)"
   ]
  },
  {
   "cell_type": "code",
   "execution_count": null,
   "metadata": {},
   "outputs": [],
   "source": [
    "## Central Air\n",
    "ac=[]\n",
    "\n",
    "for each in clean_df['CentralAir']:\n",
    "    if each == 'N':\n",
    "        v=0\n",
    "    elif each == 'Y':\n",
    "        v=1\n",
    "    ac.append(v)\n",
    "    \n",
    "clean_df['CentralAC']=ac\n",
    "clean_df.drop('CentralAir', axis=1, inplace=True)"
   ]
  },
  {
   "cell_type": "code",
   "execution_count": null,
   "metadata": {},
   "outputs": [],
   "source": [
    "## Functional\n",
    "fnc=[]\n",
    "\n",
    "for each in clean_df['Functional']:\n",
    "    if each=='Typ':\n",
    "        q=8\n",
    "    elif each =='Min1':\n",
    "        q=7\n",
    "    elif each =='Min2':\n",
    "        q=6\n",
    "    elif each =='Mod':\n",
    "        q=5\n",
    "    elif each =='Maj1':\n",
    "        q=4\n",
    "    elif each =='Maj2':\n",
    "        q=3\n",
    "    elif each == 'Sev':\n",
    "        q=2\n",
    "    elif each == 'Sal':\n",
    "        q=1\n",
    "    fnc.append(q)\n",
    "    \n",
    "clean_df['Functionality']=fnc\n",
    "#clean_df.drop('Functional', axis=1, inplace=True)"
   ]
  },
  {
   "cell_type": "code",
   "execution_count": null,
   "metadata": {},
   "outputs": [],
   "source": [
    "### Add a column using Median Neighborhood value\n",
    "\n",
    "meds=[]\n",
    "\n",
    "for each in clean_df['Neighborhood']:\n",
    "    if each == 'MeadowV':\n",
    "        m=88000\n",
    "    elif each == 'IDOTRR':\n",
    "        m=103000\n",
    "    elif each == 'BrDale':\n",
    "        m=106000\n",
    "    elif each == 'OldTown':\n",
    "        m=119000\n",
    "    elif each == 'Edwards':\n",
    "        m=121750\n",
    "    elif each == 'BrkSide':\n",
    "        m=124300\n",
    "    elif each == 'Sawyer':\n",
    "        m=135000\n",
    "    elif each == 'Blueste':\n",
    "        m=137500\n",
    "    elif each == 'SWISU':\n",
    "        m=139500\n",
    "    elif each == 'NAmes':\n",
    "        m=140000\n",
    "    elif each == 'NPkVill':\n",
    "        m=146000\n",
    "    elif each == 'Mitchel':\n",
    "        m=153500\n",
    "    elif each == 'SawyerW':\n",
    "        m=179900\n",
    "    elif each == 'Gilbert':\n",
    "        m=181000\n",
    "    elif each == 'NWAmes':\n",
    "        m=182900\n",
    "    elif each == 'Blmngtn':\n",
    "        m=191000\n",
    "    elif each == 'CollgCr':\n",
    "        m=197200\n",
    "    elif each == 'ClearCr':\n",
    "        m=200250\n",
    "    elif each == 'Crawfor':\n",
    "        m=200624\n",
    "    elif each == 'Veenker':\n",
    "        m=218000\n",
    "    elif each == 'Somerst':\n",
    "        m=225500\n",
    "    elif each == 'Timber':\n",
    "        m=228475\n",
    "    elif each == 'StoneBr':\n",
    "        m=278000\n",
    "    elif each == 'NoRidge':\n",
    "        m=301500\n",
    "    elif each == 'NridgHt':\n",
    "        m=315000\n",
    "        \n",
    "    meds.append(m)\n",
    "    \n",
    "clean_df['NeighborhoodMedValue']=meds"
   ]
  },
  {
   "cell_type": "code",
   "execution_count": null,
   "metadata": {},
   "outputs": [],
   "source": [
    "## Add a column using Zoning median Price\n",
    "\n",
    "zmed=[]\n",
    "\n",
    "for each in clean_df['MSZoning']:\n",
    "    if each == 'C(all)':\n",
    "        z=74700\n",
    "    elif each == 'RM':\n",
    "        z=120500\n",
    "    elif each == 'RH':\n",
    "        z=136500\n",
    "    elif each == 'RL':\n",
    "        z=174000\n",
    "    elif each == 'FV':\n",
    "        z=205950\n",
    "    zmed.append(z)\n",
    "    \n",
    "clean_df['ZoningMedian']=zmed\n",
    "clean_df.drop('MSZoning', axis=1, inplace=True)"
   ]
  },
  {
   "cell_type": "code",
   "execution_count": null,
   "metadata": {},
   "outputs": [],
   "source": [
    "## Add a column changing Electrical to representative of mean saleprice per category\n",
    "Elec=[]\n",
    "\n",
    "for each in clean_df['Electrical']:\n",
    "    if each == 'Mix':\n",
    "        E=.67\n",
    "    elif each =='FuseP':\n",
    "        E=.97\n",
    "    elif each == 'FuseF':\n",
    "        E=1.08\n",
    "    elif each == 'FuseA':\n",
    "        E=1.22\n",
    "    elif each =='SBrkr':\n",
    "        E=1.87\n",
    "    Elec.append(E)\n",
    "    \n",
    "clean_df[\"ElectricalCat\"]=Elec\n",
    "#clean_df.drop('Electrical', axis=1, inplace=True)"
   ]
  },
  {
   "cell_type": "code",
   "execution_count": null,
   "metadata": {},
   "outputs": [],
   "source": [
    "## Paved Drive based on Median sale price\n",
    "paved=[]\n",
    "for each in clean_df['PavedDrive']:\n",
    "    if each == 'N':\n",
    "        p=1.11\n",
    "    elif each == 'P':\n",
    "        p=1.32\n",
    "    elif each == 'Y':\n",
    "        p=1.69\n",
    "    paved.append(p)\n",
    "\n",
    "clean_df['Driveway']=paved\n",
    "clean_df.drop('PavedDrive', axis=1, inplace=True)"
   ]
  },
  {
   "cell_type": "code",
   "execution_count": null,
   "metadata": {},
   "outputs": [],
   "source": [
    "## total sq ft plus basement\n",
    "clean_df['TotSFInclBsmt']= clean_df['GrLivArea']+clean_df['TotalBsmtSF']\n",
    "## Total Full Bath\n",
    "TotFullBath=clean_df['BsmtFullBath']+clean_df['FullBath']\n",
    "## Total Half Bath\n",
    "TotHalfBath=clean_df['BsmtHalfBath']+clean_df['HalfBath']\n",
    "## Total Baths with half baths represented as 0.2\n",
    "clean_df['TotalBaths']=TotFullBath+(TotHalfBath*0.2)"
   ]
  },
  {
   "cell_type": "code",
   "execution_count": null,
   "metadata": {},
   "outputs": [],
   "source": [
    "### Add a column using  Median TotSFInclBsmt per NeighborhoodMedValue\n",
    "\n",
    "# medSF=clean_df.groupby('NeighborhoodMedValue').median()\n",
    "# medSF['TotalSF'].sort_values()\n",
    "\n",
    "medsf=[]\n",
    "\n",
    "for each in clean_df['NeighborhoodMedValue']:\n",
    "    if each == 88000:\n",
    "        m=1092\n",
    "    elif each == 103000:\n",
    "        m=1111\n",
    "    elif each == 106000:\n",
    "        m=1155\n",
    "    elif each == 119000:\n",
    "        m=1368\n",
    "    elif each == 121750:\n",
    "        m=1200\n",
    "    elif each == 124300:\n",
    "        m=1210\n",
    "    elif each == 135000:\n",
    "        m=1106\n",
    "    elif each == 137500:\n",
    "        m=1392\n",
    "    elif each == 139500:\n",
    "        m=1691\n",
    "    elif each == 140000:\n",
    "        m=1196\n",
    "    elif each == 146000:\n",
    "        m=1322\n",
    "    elif each == 153500:\n",
    "        m=1204\n",
    "    elif each == 179900:\n",
    "        m=1603\n",
    "    elif each == 181000:\n",
    "        m=1593\n",
    "    elif each == 182900:\n",
    "        m=1664\n",
    "    elif each == 191000:\n",
    "        m=1500\n",
    "    elif each == 197200:\n",
    "        m=1500\n",
    "    elif each == 200250:\n",
    "        m=1738\n",
    "    elif each == 200624:\n",
    "        m=1717\n",
    "    elif each == 218000:\n",
    "        m=1437\n",
    "    elif each == 225500:\n",
    "        m=1564\n",
    "    elif each == 228475:\n",
    "        m=1692\n",
    "    elif each == 278000:\n",
    "        m=1742\n",
    "    elif each == 301500:\n",
    "        m=2418\n",
    "    elif each == 315000:\n",
    "        m=1850\n",
    "        \n",
    "    medsf.append(m)\n",
    "    \n",
    "clean_df['MedianSFByNeighborhood']=medsf"
   ]
  },
  {
   "cell_type": "code",
   "execution_count": null,
   "metadata": {},
   "outputs": [],
   "source": [
    "## Add column MedianPricePerSF by Neighborhood and AvgByNeighborhood.  Price per SF will not be available in test data\n",
    "##clean_df[['PricePerSF', 'Neighborhood']].groupby('Neighborhood').median().sort_values(by='PricePerSF', ascending=True)\n",
    "##clean_df[['PricePerSF', 'Neighborhood']].groupby('Neighborhood').mean().sort_values(by='PricePerSF', ascending=True)\n",
    "medP=[]\n",
    "AvgP=[]\n",
    "\n",
    "for each in clean_df['Neighborhood']:\n",
    "    if each == 'SWISU':\n",
    "        m=55.23\n",
    "        a=58.10\n",
    "    elif each =='IDOTRR':\n",
    "        m=55.43\n",
    "        a=53.82\n",
    "    elif each =='OldTown':\n",
    "        m=57.49\n",
    "        a=57.58\n",
    "    elif each =='Edwards':\n",
    "        m=59.03\n",
    "        a=61.59\n",
    "    elif each =='BrDale':\n",
    "        m=59.24\n",
    "        a=61.00\n",
    "    elif each =='MeadowV':\n",
    "        m=59.92\n",
    "        a=59.22\n",
    "    elif each =='NAmes':\n",
    "        m=63.95\n",
    "        a=64.91\n",
    "    elif each =='BrkSide':\n",
    "        m=64.39\n",
    "        a=65.13\n",
    "    elif each =='NPkVill':\n",
    "        m=64.68\n",
    "        a=65.39\n",
    "    elif each =='Sawyer':\n",
    "        m=65.20\n",
    "        a=64.45\n",
    "    elif each =='NWAmes':\n",
    "        m=66.62\n",
    "        a=66.39\n",
    "    elif each =='Mitchel':\n",
    "        m=67.28\n",
    "        a=66.78\n",
    "    elif each =='Blueste':\n",
    "        m=67.87\n",
    "        a=67.87\n",
    "    elif each =='Blmngton':\n",
    "        m=68.56\n",
    "        a=70.71\n",
    "    elif each =='ClearCr':\n",
    "        m=69.54\n",
    "        a=71.81\n",
    "    elif each =='SawyerW':\n",
    "        m=71.13\n",
    "        a=70.96\n",
    "    elif each =='CollgCr':\n",
    "        m=74.80\n",
    "        a=75.21\n",
    "    elif each =='Crawfor':\n",
    "        m=76.32\n",
    "        a=74.95\n",
    "    elif each =='Gilbert':\n",
    "        m=76.62\n",
    "        a=77.38\n",
    "    elif each =='Timber':\n",
    "        m=78.26\n",
    "        a=77.44\n",
    "    elif each =='Veenker':\n",
    "        m=78.47\n",
    "        a=82.09\n",
    "    elif each=='NoRidge':\n",
    "        m=80.35\n",
    "        a=82.67\n",
    "    elif each =='Somerst':\n",
    "        m=83.21\n",
    "        a=82.65\n",
    "    elif each =='StoneBr':\n",
    "        m=87.64\n",
    "        a=89.28\n",
    "    elif each =='NridgHt':\n",
    "        m=88.89\n",
    "        a=88.61\n",
    "    medP.append(m)\n",
    "    AvgP.append(a)\n",
    "    \n",
    "clean_df['MedPPSFNeigh']=medP\n",
    "clean_df['AvgPPSFNeigh']=AvgP"
   ]
  },
  {
   "cell_type": "markdown",
   "metadata": {},
   "source": [
    "### Normalize the data between 2 and 3 std"
   ]
  },
  {
   "cell_type": "code",
   "execution_count": null,
   "metadata": {},
   "outputs": [],
   "source": [
    "simp_df=clean_df.copy()"
   ]
  },
  {
   "cell_type": "code",
   "execution_count": null,
   "metadata": {},
   "outputs": [],
   "source": [
    "## OverallQual min 2\n",
    "simp_df.loc[simp_df['OverallQual']<2, 'OverallQual']=np.nan\n",
    "simp_df.fillna(2, inplace=True)\n",
    "simp_df['OverallQual'].min()"
   ]
  },
  {
   "cell_type": "code",
   "execution_count": null,
   "metadata": {},
   "outputs": [],
   "source": [
    "## GrLivArea  600 to 3000\n",
    "simp_df.loc[simp_df['GrLivArea']<600, 'GrLivArea']=np.nan\n",
    "simp_df.fillna(600, inplace=True)\n",
    "simp_df['GrLivArea'].min()\n",
    "\n",
    "simp_df.loc[simp_df['GrLivArea']>3000, 'GrLivArea']=np.nan\n",
    "simp_df.fillna(3000, inplace=True)\n",
    "simp_df['GrLivArea'].hist()"
   ]
  },
  {
   "cell_type": "code",
   "execution_count": null,
   "metadata": {},
   "outputs": [],
   "source": [
    "## TotalBsmtSF max 3000\n",
    "simp_df.loc[simp_df['TotalBsmtSF']>3000, 'TotalBsmtSF']=np.nan\n",
    "simp_df.fillna(3000, inplace=True)\n",
    "simp_df.loc[[332, 523, 1044, 1298], 'TotalBsmtSF']=np.nan\n",
    "simp_df.fillna(2500, inplace=True)\n",
    "simp_df.TotalBsmtSF.hist()"
   ]
  },
  {
   "cell_type": "code",
   "execution_count": null,
   "metadata": {},
   "outputs": [],
   "source": [
    "## TotSFInclBsmt limits 600 to 5500 \n",
    "simp_df.loc[simp_df['TotSFInclBsmt']<750, 'TotSFInclBsmt']=np.nan\n",
    "simp_df.fillna(750, inplace=True)\n",
    "simp_df['TotSFInclBsmt'].min()\n",
    "\n",
    "simp_df.loc[simp_df['TotSFInclBsmt']>5500, 'TotSFInclBsmt']=np.nan\n",
    "simp_df.fillna(5500, inplace=True)\n",
    "simp_df['TotSFInclBsmt'].hist()"
   ]
  },
  {
   "cell_type": "code",
   "execution_count": null,
   "metadata": {},
   "outputs": [],
   "source": [
    "## GarageCars max 3\n",
    "simp_df.loc[simp_df['GarageCars']>3, 'GarageCars']=np.nan\n",
    "simp_df.fillna(3, inplace=True)\n",
    "simp_df['GarageCars'].max()"
   ]
  },
  {
   "cell_type": "code",
   "execution_count": null,
   "metadata": {},
   "outputs": [],
   "source": [
    "## GarageArea max 900\n",
    "simp_df.loc[simp_df['GarageArea']>1100, 'GarageArea']=np.nan\n",
    "simp_df.fillna(1100, inplace=True)\n",
    "simp_df['GarageArea'].hist()"
   ]
  },
  {
   "cell_type": "code",
   "execution_count": null,
   "metadata": {},
   "outputs": [],
   "source": [
    "## TotalBaths max 3.2\n",
    "# simp_df.loc[simp_df['TotalBaths']>4, 'TotalBaths']=np.nan\n",
    "# simp_df.fillna(4, inplace=True)\n",
    "simp_df['TotalBaths'].hist()"
   ]
  },
  {
   "cell_type": "code",
   "execution_count": null,
   "metadata": {},
   "outputs": [],
   "source": [
    "## YearBuilt 1900 min\n",
    "simp_df.loc[simp_df['YearBuilt']<1920, 'YearBuilt']=np.nan\n",
    "simp_df.fillna(1920, inplace=True)\n",
    "simp_df['YearBuilt'].min()"
   ]
  },
  {
   "cell_type": "code",
   "execution_count": null,
   "metadata": {},
   "outputs": [],
   "source": [
    "##  TotRmsAbvGrd max 9 min 4\n",
    "simp_df.loc[simp_df['TotRmsAbvGrd']>11, 'TotRmsAbvGrd']=np.nan\n",
    "simp_df.fillna(11, inplace=True)\n",
    "simp_df['TotRmsAbvGrd'].max()\n",
    "\n",
    "simp_df.loc[simp_df['TotRmsAbvGrd']<4, 'TotRmsAbvGrd']=np.nan\n",
    "simp_df.fillna(4, inplace=True)\n",
    "simp_df['TotRmsAbvGrd'].hist()"
   ]
  },
  {
   "cell_type": "code",
   "execution_count": null,
   "metadata": {},
   "outputs": [],
   "source": [
    "## Fireplaces max 2\n",
    "simp_df.loc[simp_df['Fireplaces']>2, 'Fireplaces']=np.nan\n",
    "simp_df.fillna(2, inplace=True)\n",
    "simp_df['Fireplaces'].max()"
   ]
  },
  {
   "cell_type": "code",
   "execution_count": null,
   "metadata": {},
   "outputs": [],
   "source": [
    "##  MasVnrArea group 0, 200, 400\n",
    "simp_df.loc[simp_df['MasVnrArea']>200, 'MasVnrArea']=np.nan\n",
    "simp_df.fillna(400, inplace=True)\n",
    "\n",
    "simp_df.loc[(simp_df['MasVnrArea']>1)&(simp_df['MasVnrArea']<=200), 'MasVnrArea']=np.nan\n",
    "simp_df.fillna(200, inplace=True)\n",
    "simp_df['MasVnrArea'].hist()"
   ]
  },
  {
   "cell_type": "code",
   "execution_count": null,
   "metadata": {},
   "outputs": [],
   "source": [
    "## OpenPorchSF group 0, 50, 100\n",
    "simp_df.loc[(simp_df['OpenPorchSF']>1)&(simp_df['OpenPorchSF']<75), 'OpenPorchSF']=np.nan\n",
    "simp_df.fillna(50, inplace=True)\n",
    "\n",
    "simp_df.loc[simp_df['OpenPorchSF']>=75, 'OpenPorchSF']=np.nan\n",
    "simp_df.fillna(100, inplace=True)\n",
    "simp_df['OpenPorchSF'].max()"
   ]
  },
  {
   "cell_type": "code",
   "execution_count": null,
   "metadata": {},
   "outputs": [],
   "source": [
    "## WoodDeckSF groups 0, 100, 200, 300, 400\n",
    "simp_df.loc[(simp_df['WoodDeckSF']>1)&(simp_df['WoodDeckSF']<=100), 'WoodDeckSF']=np.nan\n",
    "simp_df.fillna(100, inplace=True)\n",
    "\n",
    "simp_df.loc[(simp_df['WoodDeckSF']>100)&(simp_df['WoodDeckSF']<=200), 'WoodDeckSF']=np.nan\n",
    "simp_df.fillna(200, inplace=True)\n",
    "\n",
    "simp_df.loc[(simp_df['WoodDeckSF']>200)&(simp_df['WoodDeckSF']<=300), 'WoodDeckSF']=np.nan\n",
    "simp_df.fillna(300, inplace=True)\n",
    "\n",
    "simp_df.loc[simp_df['WoodDeckSF']>300, 'WoodDeckSF']=np.nan\n",
    "simp_df.fillna(400, inplace=True)\n",
    "simp_df['WoodDeckSF'].max()"
   ]
  },
  {
   "cell_type": "code",
   "execution_count": null,
   "metadata": {},
   "outputs": [],
   "source": [
    "## BsmtFinSF1 max at 1500\n",
    "simp_df.loc[simp_df['BsmtFinSF1']>1500, 'BsmtFinSF1']=np.nan\n",
    "simp_df.fillna(1500, inplace=True)\n",
    "simp_df['BsmtFinSF1'].max()"
   ]
  },
  {
   "cell_type": "code",
   "execution_count": null,
   "metadata": {},
   "outputs": [],
   "source": [
    "## LotFrontage max 130\n",
    "simp_df.loc[simp_df['LotFrontage']>130, 'LotFrontage']=np.nan\n",
    "simp_df.fillna(130, inplace=True)\n",
    "simp_df['LotFrontage'].max()"
   ]
  },
  {
   "cell_type": "code",
   "execution_count": null,
   "metadata": {},
   "outputs": [],
   "source": [
    "## LotArea max 20000\n",
    "simp_df.loc[simp_df['LotArea']>20000, 'LotArea']=np.nan\n",
    "simp_df.fillna(20000, inplace=True)\n",
    "simp_df['LotArea'].max()"
   ]
  },
  {
   "cell_type": "code",
   "execution_count": null,
   "metadata": {},
   "outputs": [],
   "source": [
    "## Drop columns with less than 0.05 R2\n",
    "simp_df.drop(['3SsnPorch', 'ExterCond', 'BsmtFinSF2', 'MiscVal',\n",
    "              'BsmtHalfBath', 'YrSold',], axis=1, inplace=True)\n",
    "# MoSold                    0.076006\n",
    "# 3SsnPorch                 0.040336\n",
    "# ExterCond                 0.027543\n",
    "# BsmtFinSF2                0.000937\n",
    "# MiscVal                  -0.014565\n",
    "# BsmtHalfBath             -0.023652\n",
    "# YrSold                   -0.032355\n",
    "# OverallCond              -0.057258\n",
    "# LowQualFinSF             -0.059779\n",
    "# MSSubClass               -0.063563"
   ]
  },
  {
   "cell_type": "code",
   "execution_count": null,
   "metadata": {
    "scrolled": true
   },
   "outputs": [],
   "source": [
    "## EnclosedPorch max 350\n",
    "simp_df.loc[simp_df['EnclosedPorch']>350, 'EnclosedPorch']=np.nan\n",
    "simp_df.fillna(350, inplace=True)\n",
    "simp_df['EnclosedPorch'].max()"
   ]
  },
  {
   "cell_type": "code",
   "execution_count": 389,
   "metadata": {
    "scrolled": true
   },
   "outputs": [
    {
     "data": {
      "text/plain": [
       "755000.0"
      ]
     },
     "execution_count": 389,
     "metadata": {},
     "output_type": "execute_result"
    },
    {
     "data": {
      "image/png": "[encoded data removed]",
      "text/plain": [
       "<Figure size 432x288 with 1 Axes>"
      ]
     },
     "metadata": {
      "needs_background": "light"
     },
     "output_type": "display_data"
    }
   ],
   "source": [
    "simp_df['SalePrice'].hist()\n",
    "# simp_df.loc[simp_df['SalePrice']>400000, 'SalePrice']=np.nan\n",
    "# simp_df.fillna(400000, inplace=True)\n",
    "simp_df['SalePrice'].max()"
   ]
  },
  {
   "cell_type": "markdown",
   "metadata": {},
   "source": [
    "## Separate Training Set from Data"
   ]
  },
  {
   "cell_type": "code",
   "execution_count": 367,
   "metadata": {},
   "outputs": [],
   "source": [
    "Train_Set=simp_df.copy()\n",
    "Train_Set=Train_Set.loc[Train_Set['Id']<=1460]"
   ]
  },
  {
   "cell_type": "code",
   "execution_count": 368,
   "metadata": {},
   "outputs": [],
   "source": [
    "Train_Set.drop('Id', axis=1, inplace=True)"
   ]
  },
  {
   "cell_type": "code",
   "execution_count": 369,
   "metadata": {},
   "outputs": [
    {
     "data": {
      "text/plain": [
       "415000.0"
      ]
     },
     "execution_count": 369,
     "metadata": {},
     "output_type": "execute_result"
    }
   ],
   "source": [
    "Train_Set.loc[Train_Set['SalePrice']>415000, 'SalePrice']=np.nan\n",
    "Train_Set.fillna(415000, inplace=True)\n",
    "Train_Set.SalePrice.max()"
   ]
  },
  {
   "cell_type": "code",
   "execution_count": 370,
   "metadata": {},
   "outputs": [],
   "source": [
    "Test_Set=simp_df.copy()\n",
    "Test_Set=Test_Set.loc[Test_Set['Id']>=1461]\n",
    "Test_Set.drop('SalePrice', axis=1, inplace=True)"
   ]
  },
  {
   "cell_type": "markdown",
   "metadata": {},
   "source": [
    "## Integer Only "
   ]
  },
  {
   "cell_type": "code",
   "execution_count": 371,
   "metadata": {},
   "outputs": [
    {
     "data": {
      "text/html": [
       "<div>\n",
       "<style scoped>\n",
       "    .dataframe tbody tr th:only-of-type {\n",
       "        vertical-align: middle;\n",
       "    }\n",
       "\n",
       "    .dataframe tbody tr th {\n",
       "        vertical-align: top;\n",
       "    }\n",
       "\n",
       "    .dataframe thead th {\n",
       "        text-align: right;\n",
       "    }\n",
       "</style>\n",
       "<table border=\"1\" class=\"dataframe\">\n",
       "  <thead>\n",
       "    <tr style=\"text-align: right;\">\n",
       "      <th></th>\n",
       "      <th>MSSubClass</th>\n",
       "      <th>LotFrontage</th>\n",
       "      <th>LotArea</th>\n",
       "      <th>OverallQual</th>\n",
       "      <th>OverallCond</th>\n",
       "      <th>YearBuilt</th>\n",
       "      <th>YearRemodAdd</th>\n",
       "      <th>MasVnrArea</th>\n",
       "      <th>ExterQual</th>\n",
       "      <th>BsmtQual</th>\n",
       "      <th>BsmtCond</th>\n",
       "      <th>BsmtFinSF1</th>\n",
       "      <th>BsmtUnfSF</th>\n",
       "      <th>TotalBsmtSF</th>\n",
       "      <th>HeatingQC</th>\n",
       "      <th>1stFlrSF</th>\n",
       "      <th>2ndFlrSF</th>\n",
       "      <th>LowQualFinSF</th>\n",
       "      <th>GrLivArea</th>\n",
       "      <th>BsmtFullBath</th>\n",
       "      <th>FullBath</th>\n",
       "      <th>HalfBath</th>\n",
       "      <th>BedroomAbvGr</th>\n",
       "      <th>KitchenAbvGr</th>\n",
       "      <th>KitchenQual</th>\n",
       "      <th>TotRmsAbvGrd</th>\n",
       "      <th>Fireplaces</th>\n",
       "      <th>FireplaceQu</th>\n",
       "      <th>GarageYrBlt</th>\n",
       "      <th>GarageCars</th>\n",
       "      <th>GarageArea</th>\n",
       "      <th>GarageQual</th>\n",
       "      <th>GarageCond</th>\n",
       "      <th>WoodDeckSF</th>\n",
       "      <th>OpenPorchSF</th>\n",
       "      <th>EnclosedPorch</th>\n",
       "      <th>ScreenPorch</th>\n",
       "      <th>MoSold</th>\n",
       "      <th>SalePrice</th>\n",
       "      <th>CentralAC</th>\n",
       "      <th>Functionality</th>\n",
       "      <th>NeighborhoodMedValue</th>\n",
       "      <th>ZoningMedian</th>\n",
       "      <th>ElectricalCat</th>\n",
       "      <th>Driveway</th>\n",
       "      <th>TotSFInclBsmt</th>\n",
       "      <th>TotalBaths</th>\n",
       "      <th>MedianSFByNeighborhood</th>\n",
       "      <th>MedPPSFNeigh</th>\n",
       "      <th>AvgPPSFNeigh</th>\n",
       "    </tr>\n",
       "  </thead>\n",
       "  <tbody>\n",
       "    <tr>\n",
       "      <th>0</th>\n",
       "      <td>60</td>\n",
       "      <td>65.0</td>\n",
       "      <td>8450.0</td>\n",
       "      <td>7.0</td>\n",
       "      <td>5</td>\n",
       "      <td>2003.0</td>\n",
       "      <td>2003</td>\n",
       "      <td>200.0</td>\n",
       "      <td>4</td>\n",
       "      <td>4</td>\n",
       "      <td>3</td>\n",
       "      <td>706.0</td>\n",
       "      <td>150.0</td>\n",
       "      <td>856.0</td>\n",
       "      <td>5</td>\n",
       "      <td>856</td>\n",
       "      <td>854</td>\n",
       "      <td>0</td>\n",
       "      <td>1710.0</td>\n",
       "      <td>1.0</td>\n",
       "      <td>2</td>\n",
       "      <td>1</td>\n",
       "      <td>3</td>\n",
       "      <td>1</td>\n",
       "      <td>4</td>\n",
       "      <td>8.0</td>\n",
       "      <td>0.0</td>\n",
       "      <td>0</td>\n",
       "      <td>2003.0</td>\n",
       "      <td>2.0</td>\n",
       "      <td>548.0</td>\n",
       "      <td>3</td>\n",
       "      <td>3</td>\n",
       "      <td>0.0</td>\n",
       "      <td>50.0</td>\n",
       "      <td>0.0</td>\n",
       "      <td>0</td>\n",
       "      <td>2</td>\n",
       "      <td>208500.0</td>\n",
       "      <td>1</td>\n",
       "      <td>8</td>\n",
       "      <td>197200</td>\n",
       "      <td>174000</td>\n",
       "      <td>1.87</td>\n",
       "      <td>1.69</td>\n",
       "      <td>2566.0</td>\n",
       "      <td>3.2</td>\n",
       "      <td>1500</td>\n",
       "      <td>74.8</td>\n",
       "      <td>75.21</td>\n",
       "    </tr>\n",
       "  </tbody>\n",
       "</table>\n",
       "</div>"
      ],
      "text/plain": [
       "   MSSubClass  LotFrontage  LotArea  OverallQual  OverallCond  YearBuilt  \\\n",
       "0          60         65.0   8450.0          7.0            5     2003.0   \n",
       "\n",
       "   YearRemodAdd  MasVnrArea  ExterQual  BsmtQual  BsmtCond  BsmtFinSF1  \\\n",
       "0          2003       200.0          4         4         3       706.0   \n",
       "\n",
       "   BsmtUnfSF  TotalBsmtSF  HeatingQC  1stFlrSF  2ndFlrSF  LowQualFinSF  \\\n",
       "0      150.0        856.0          5       856       854             0   \n",
       "\n",
       "   GrLivArea  BsmtFullBath  FullBath  HalfBath  BedroomAbvGr  KitchenAbvGr  \\\n",
       "0     1710.0           1.0         2         1             3             1   \n",
       "\n",
       "   KitchenQual  TotRmsAbvGrd  Fireplaces  FireplaceQu  GarageYrBlt  \\\n",
       "0            4           8.0         0.0            0       2003.0   \n",
       "\n",
       "   GarageCars  GarageArea  GarageQual  GarageCond  WoodDeckSF  OpenPorchSF  \\\n",
       "0         2.0       548.0           3           3         0.0         50.0   \n",
       "\n",
       "   EnclosedPorch  ScreenPorch  MoSold  SalePrice  CentralAC  Functionality  \\\n",
       "0            0.0            0       2   208500.0          1              8   \n",
       "\n",
       "   NeighborhoodMedValue  ZoningMedian  ElectricalCat  Driveway  TotSFInclBsmt  \\\n",
       "0                197200        174000           1.87      1.69         2566.0   \n",
       "\n",
       "   TotalBaths  MedianSFByNeighborhood  MedPPSFNeigh  AvgPPSFNeigh  \n",
       "0         3.2                    1500          74.8         75.21  "
      ]
     },
     "execution_count": 371,
     "metadata": {},
     "output_type": "execute_result"
    }
   ],
   "source": [
    "IO_DF=Train_Set.select_dtypes(include='number')\n",
    "IO_DF.head(1)"
   ]
  },
  {
   "cell_type": "code",
   "execution_count": 358,
   "metadata": {},
   "outputs": [],
   "source": [
    "from sklearn.metrics import mean_squared_error\n",
    "from sklearn.ensemble import GradientBoostingRegressor\n",
    "from sklearn.preprocessing import StandardScaler"
   ]
  },
  {
   "cell_type": "code",
   "execution_count": 372,
   "metadata": {},
   "outputs": [],
   "source": [
    "X=IO_DF.drop('SalePrice', axis=1)\n",
    "y=IO_DF['SalePrice']\n",
    "\n",
    "stdscaler=StandardScaler()\n",
    "X_scaled=stdscaler.fit_transform(X)"
   ]
  },
  {
   "cell_type": "markdown",
   "metadata": {},
   "source": [
    "## Gradient Boosting Regressor"
   ]
  },
  {
   "cell_type": "code",
   "execution_count": null,
   "metadata": {},
   "outputs": [],
   "source": [
    "gbr=GradientBoostingRegressor(max_depth=3, n_estimators=1000, learning_rate=0.05, min_samples_split=4)\n",
    "\n",
    "gbr.fit(X, y)\n",
    "gbr.score(X, y)"
   ]
  },
  {
   "cell_type": "code",
   "execution_count": null,
   "metadata": {},
   "outputs": [],
   "source": [
    "IO_Test=Test_Set.select_dtypes(include='number')\n",
    "IO_Test.head(2)\n",
    "\n",
    "test_IDs=IO_Test['Id']\n",
    "IOX_Test=IO_Test.drop('Id', axis=1)"
   ]
  },
  {
   "cell_type": "code",
   "execution_count": null,
   "metadata": {},
   "outputs": [],
   "source": [
    "gbr_predictions=gbr.predict(IOX_Test)"
   ]
  },
  {
   "cell_type": "code",
   "execution_count": null,
   "metadata": {},
   "outputs": [],
   "source": [
    "Submission=pd.DataFrame({\n",
    "    'ID': test_IDs,\n",
    "    'SalePrice': gbr_predictions\n",
    "})"
   ]
  },
  {
   "cell_type": "code",
   "execution_count": null,
   "metadata": {},
   "outputs": [],
   "source": [
    "Submission.to_csv(r'C:\\Users\\chris\\OneDrive\\Documents\\Extracurricular_projects\\Ames_Iowa_Predictions\\Kaggle_Housing_Prices\\submission8.csv', index=False, header=True)"
   ]
  },
  {
   "cell_type": "code",
   "execution_count": null,
   "metadata": {
    "scrolled": true
   },
   "outputs": [],
   "source": [
    "Submission['SalePrice'].hist()"
   ]
  },
  {
   "cell_type": "code",
   "execution_count": null,
   "metadata": {
    "scrolled": true
   },
   "outputs": [],
   "source": [
    "Train_Set['SalePrice'].hist()"
   ]
  },
  {
   "cell_type": "markdown",
   "metadata": {},
   "source": [
    "### Randomized Search CV"
   ]
  },
  {
   "cell_type": "code",
   "execution_count": 360,
   "metadata": {},
   "outputs": [],
   "source": [
    "from sklearn.model_selection import RandomizedSearchCV"
   ]
  },
  {
   "cell_type": "code",
   "execution_count": 361,
   "metadata": {},
   "outputs": [
    {
     "data": {
      "text/plain": [
       "RandomizedSearchCV(cv=5, error_score=nan,\n",
       "                   estimator=GradientBoostingRegressor(alpha=0.9, ccp_alpha=0.0,\n",
       "                                                       criterion='friedman_mse',\n",
       "                                                       init=None,\n",
       "                                                       learning_rate=0.1,\n",
       "                                                       loss='ls', max_depth=3,\n",
       "                                                       max_features=None,\n",
       "                                                       max_leaf_nodes=None,\n",
       "                                                       min_impurity_decrease=0.0,\n",
       "                                                       min_impurity_split=None,\n",
       "                                                       min_samples_leaf=1,\n",
       "                                                       min_samples_split=2,\n",
       "                                                       min_weight_fraction_leaf=0.0,\n",
       "                                                       n_estimators=100,\n",
       "                                                       n_...\n",
       "                                                       validation_fraction=0.1,\n",
       "                                                       verbose=0,\n",
       "                                                       warm_start=False),\n",
       "                   iid='deprecated', n_iter=10, n_jobs=None,\n",
       "                   param_distributions={'learning_rate': [0.05, 0.01, 0.03],\n",
       "                                        'max_depth': [3],\n",
       "                                        'min_samples_split': [3, 4, 5],\n",
       "                                        'n_estimators': [2000],\n",
       "                                        'subsample': [1.0, 0.8]},\n",
       "                   pre_dispatch='2*n_jobs', random_state=None, refit=True,\n",
       "                   return_train_score=False,\n",
       "                   scoring='neg_mean_squared_log_error', verbose=0)"
      ]
     },
     "execution_count": 361,
     "metadata": {},
     "output_type": "execute_result"
    }
   ],
   "source": [
    "GB_CV=GradientBoostingRegressor()\n",
    "\n",
    "grid= {\n",
    "    'learning_rate': [0.05, 0.01, 0.03],\n",
    "    'n_estimators': [2000],\n",
    "    'subsample': [1.0, 0.8],\n",
    "    'min_samples_split': [3,4,5],\n",
    "    'max_depth': [3]\n",
    "}\n",
    "\n",
    "GBR_random2=RandomizedSearchCV(GB_CV, grid, scoring='neg_mean_squared_log_error', cv=5)\n",
    "\n",
    "GBR_random2.fit(X, y)\n"
   ]
  },
  {
   "cell_type": "code",
   "execution_count": null,
   "metadata": {
    "scrolled": false
   },
   "outputs": [],
   "source": [
    "#GBR_random.best_params_"
   ]
  },
  {
   "cell_type": "code",
   "execution_count": 362,
   "metadata": {},
   "outputs": [
    {
     "data": {
      "text/plain": [
       "{'subsample': 0.8,\n",
       " 'n_estimators': 2000,\n",
       " 'min_samples_split': 3,\n",
       " 'max_depth': 3,\n",
       " 'learning_rate': 0.01}"
      ]
     },
     "execution_count": 362,
     "metadata": {},
     "output_type": "execute_result"
    }
   ],
   "source": [
    "GBR_random2.best_params_"
   ]
  },
  {
   "cell_type": "code",
   "execution_count": null,
   "metadata": {},
   "outputs": [],
   "source": [
    "#import pickle\n",
    "#pickle.dump(GBR_random, open('Tuned_GBR.sav', 'wb'))"
   ]
  },
  {
   "cell_type": "code",
   "execution_count": 375,
   "metadata": {},
   "outputs": [],
   "source": [
    "Preds=GBR_random2.predict(IOX_Test)"
   ]
  },
  {
   "cell_type": "code",
   "execution_count": 376,
   "metadata": {},
   "outputs": [],
   "source": [
    "Submission=pd.DataFrame({\n",
    "    'ID': test_IDs,\n",
    "    'SalePrice': Preds\n",
    "})"
   ]
  },
  {
   "cell_type": "code",
   "execution_count": 377,
   "metadata": {
    "scrolled": false
   },
   "outputs": [
    {
     "data": {
      "text/plain": [
       "<matplotlib.axes._subplots.AxesSubplot at 0x2a971d6b788>"
      ]
     },
     "execution_count": 377,
     "metadata": {},
     "output_type": "execute_result"
    },
    {
     "data": {
      "image/png": "[encoded data removed]",
      "text/plain": [
       "<Figure size 432x288 with 1 Axes>"
      ]
     },
     "metadata": {
      "needs_background": "light"
     },
     "output_type": "display_data"
    }
   ],
   "source": [
    "Submission['SalePrice'].hist()"
   ]
  },
  {
   "cell_type": "code",
   "execution_count": 378,
   "metadata": {},
   "outputs": [],
   "source": [
    "Submission.to_csv(r'C:\\Users\\chris\\OneDrive\\Documents\\Extracurricular_projects\\Ames_Iowa_Predictions\\Kaggle_Housing_Prices\\submission10.csv', index=False, header=True)"
   ]
  },
  {
   "cell_type": "markdown",
   "metadata": {},
   "source": [
    "## All Data"
   ]
  },
  {
   "cell_type": "code",
   "execution_count": 391,
   "metadata": {
    "scrolled": true
   },
   "outputs": [
    {
     "data": {
      "text/plain": [
       "755000.0"
      ]
     },
     "execution_count": 391,
     "metadata": {},
     "output_type": "execute_result"
    }
   ],
   "source": [
    "All_Data=pd.get_dummies(simp_df)\n",
    "All_Data['SalePrice'].max()"
   ]
  },
  {
   "cell_type": "code",
   "execution_count": 396,
   "metadata": {},
   "outputs": [],
   "source": [
    "Train_All_Data=All_Data.copy()"
   ]
  },
  {
   "cell_type": "code",
   "execution_count": 397,
   "metadata": {},
   "outputs": [],
   "source": [
    "Train_All_Data=Train_All_Data.loc[Train_All_Data['Id']<=1460]\n",
    "Train_All_Data.drop('Id', axis=1, inplace=True)"
   ]
  },
  {
   "cell_type": "code",
   "execution_count": 398,
   "metadata": {
    "scrolled": true
   },
   "outputs": [
    {
     "data": {
      "text/plain": [
       "450000.0"
      ]
     },
     "execution_count": 398,
     "metadata": {},
     "output_type": "execute_result"
    }
   ],
   "source": [
    "#Train_All_Data['SalePrice'].hist()\n",
    "Train_All_Data.loc[Train_All_Data['SalePrice']>450000, 'SalePrice']=np.nan\n",
    "Train_All_Data.fillna(450000, inplace=True)\n",
    "Train_All_Data.SalePrice.max()"
   ]
  },
  {
   "cell_type": "code",
   "execution_count": 399,
   "metadata": {},
   "outputs": [],
   "source": [
    "AX=Train_All_Data.drop('SalePrice', axis=1)\n",
    "Ay=Train_All_Data['SalePrice']"
   ]
  },
  {
   "cell_type": "code",
   "execution_count": 407,
   "metadata": {},
   "outputs": [],
   "source": [
    "Test_All_Data=All_Data.copy()\n",
    "Test_All_Data=Test_All_Data.loc[Test_All_Data['Id']>=1461]\n",
    "\n",
    "Test_IDs=Test_All_Data['Id']\n",
    "Test_AX=Test_All_Data.drop(['SalePrice','Id'], axis=1)"
   ]
  },
  {
   "cell_type": "code",
   "execution_count": 404,
   "metadata": {},
   "outputs": [
    {
     "name": "stderr",
     "output_type": "stream",
     "text": [
      "C:\\Users\\chris\\anaconda3\\lib\\site-packages\\sklearn\\model_selection\\_search.py:281: UserWarning: The total space of parameters 8 is smaller than n_iter=10. Running 8 iterations. For exhaustive searches, use GridSearchCV.\n",
      "  % (grid_size, self.n_iter, grid_size), UserWarning)\n"
     ]
    },
    {
     "data": {
      "text/plain": [
       "RandomizedSearchCV(cv=5, error_score=nan,\n",
       "                   estimator=GradientBoostingRegressor(alpha=0.9, ccp_alpha=0.0,\n",
       "                                                       criterion='friedman_mse',\n",
       "                                                       init=None,\n",
       "                                                       learning_rate=0.1,\n",
       "                                                       loss='ls', max_depth=3,\n",
       "                                                       max_features=None,\n",
       "                                                       max_leaf_nodes=None,\n",
       "                                                       min_impurity_decrease=0.0,\n",
       "                                                       min_impurity_split=None,\n",
       "                                                       min_samples_leaf=1,\n",
       "                                                       min_samples_split=2,\n",
       "                                                       min_weight_fraction_leaf=0.0,\n",
       "                                                       n_estimators=100,\n",
       "                                                       n_...\n",
       "                                                       validation_fraction=0.1,\n",
       "                                                       verbose=0,\n",
       "                                                       warm_start=False),\n",
       "                   iid='deprecated', n_iter=10, n_jobs=None,\n",
       "                   param_distributions={'learning_rate': [0.01, 0.03],\n",
       "                                        'max_depth': [3],\n",
       "                                        'min_samples_split': [3, 4],\n",
       "                                        'n_estimators': [2000, 3000],\n",
       "                                        'subsample': [0.8]},\n",
       "                   pre_dispatch='2*n_jobs', random_state=None, refit=True,\n",
       "                   return_train_score=False,\n",
       "                   scoring='neg_mean_squared_log_error', verbose=0)"
      ]
     },
     "execution_count": 404,
     "metadata": {},
     "output_type": "execute_result"
    }
   ],
   "source": [
    "GB_CV=GradientBoostingRegressor()\n",
    "\n",
    "grid= {\n",
    "    'learning_rate': [0.01, 0.03],\n",
    "    'n_estimators': [2000, 3000],\n",
    "    'subsample': [0.8],\n",
    "    'min_samples_split': [3,4],\n",
    "    'max_depth': [3]\n",
    "}\n",
    "\n",
    "AGBR=RandomizedSearchCV(GB_CV, grid, scoring='neg_mean_squared_log_error', cv=5)\n",
    "\n",
    "AGBR.fit(AX, Ay)\n"
   ]
  },
  {
   "cell_type": "code",
   "execution_count": 405,
   "metadata": {},
   "outputs": [
    {
     "data": {
      "text/plain": [
       "{'subsample': 0.8,\n",
       " 'n_estimators': 2000,\n",
       " 'min_samples_split': 3,\n",
       " 'max_depth': 3,\n",
       " 'learning_rate': 0.01}"
      ]
     },
     "execution_count": 405,
     "metadata": {},
     "output_type": "execute_result"
    }
   ],
   "source": [
    "AGBR.best_params_"
   ]
  },
  {
   "cell_type": "code",
   "execution_count": 403,
   "metadata": {},
   "outputs": [
    {
     "data": {
      "text/plain": [
       "-0.004704311489973391"
      ]
     },
     "execution_count": 403,
     "metadata": {},
     "output_type": "execute_result"
    }
   ],
   "source": [
    "AGBR.score(AX, Ay)"
   ]
  },
  {
   "cell_type": "code",
   "execution_count": 408,
   "metadata": {},
   "outputs": [],
   "source": [
    "AGBR_predictions=AGBR.predict(Test_AX)"
   ]
  },
  {
   "cell_type": "code",
   "execution_count": 410,
   "metadata": {},
   "outputs": [],
   "source": [
    "Submission=pd.DataFrame({\n",
    "    'ID': Test_IDs,\n",
    "    'SalePrice': AGBR_predictions\n",
    "})"
   ]
  },
  {
   "cell_type": "code",
   "execution_count": 411,
   "metadata": {},
   "outputs": [
    {
     "data": {
      "text/plain": [
       "<matplotlib.axes._subplots.AxesSubplot at 0x2a9730c1f08>"
      ]
     },
     "execution_count": 411,
     "metadata": {},
     "output_type": "execute_result"
    },
    {
     "data": {
      "image/png": "[encoded data removed]",
      "text/plain": [
       "<Figure size 432x288 with 1 Axes>"
      ]
     },
     "metadata": {
      "needs_background": "light"
     },
     "output_type": "display_data"
    }
   ],
   "source": [
    "Submission['SalePrice'].hist()"
   ]
  },
  {
   "cell_type": "code",
   "execution_count": 412,
   "metadata": {},
   "outputs": [],
   "source": [
    "Submission.to_csv(r'C:\\Users\\chris\\OneDrive\\Documents\\Extracurricular_projects\\Ames_Iowa_Predictions\\Kaggle_Housing_Prices\\submission11.csv', index=False, header=True)"
   ]
  },
  {
   "cell_type": "code",
   "execution_count": null,
   "metadata": {},
   "outputs": [],
   "source": []
  },
  {
   "cell_type": "markdown",
   "metadata": {},
   "source": [
    "### Correlation Matrix"
   ]
  },
  {
   "cell_type": "code",
   "execution_count": 449,
   "metadata": {},
   "outputs": [
    {
     "data": {
      "text/html": [
       "<div>\n",
       "<style scoped>\n",
       "    .dataframe tbody tr th:only-of-type {\n",
       "        vertical-align: middle;\n",
       "    }\n",
       "\n",
       "    .dataframe tbody tr th {\n",
       "        vertical-align: top;\n",
       "    }\n",
       "\n",
       "    .dataframe thead th {\n",
       "        text-align: right;\n",
       "    }\n",
       "</style>\n",
       "<table border=\"1\" class=\"dataframe\">\n",
       "  <thead>\n",
       "    <tr style=\"text-align: right;\">\n",
       "      <th></th>\n",
       "      <th>Id</th>\n",
       "      <th>LotFrontage</th>\n",
       "      <th>LotArea</th>\n",
       "      <th>OverallQual</th>\n",
       "      <th>OverallCond</th>\n",
       "      <th>YearBuilt</th>\n",
       "      <th>YearRemodAdd</th>\n",
       "      <th>MasVnrArea</th>\n",
       "      <th>ExterQual</th>\n",
       "      <th>BsmtQual</th>\n",
       "      <th>BsmtCond</th>\n",
       "      <th>BsmtFinSF1</th>\n",
       "      <th>BsmtUnfSF</th>\n",
       "      <th>TotalBsmtSF</th>\n",
       "      <th>HeatingQC</th>\n",
       "      <th>1stFlrSF</th>\n",
       "      <th>2ndFlrSF</th>\n",
       "      <th>GrLivArea</th>\n",
       "      <th>BsmtFullBath</th>\n",
       "      <th>FullBath</th>\n",
       "      <th>HalfBath</th>\n",
       "      <th>BedroomAbvGr</th>\n",
       "      <th>KitchenAbvGr</th>\n",
       "      <th>KitchenQual</th>\n",
       "      <th>TotRmsAbvGrd</th>\n",
       "      <th>Fireplaces</th>\n",
       "      <th>FireplaceQu</th>\n",
       "      <th>GarageYrBlt</th>\n",
       "      <th>GarageCars</th>\n",
       "      <th>GarageArea</th>\n",
       "      <th>GarageQual</th>\n",
       "      <th>GarageCond</th>\n",
       "      <th>WoodDeckSF</th>\n",
       "      <th>OpenPorchSF</th>\n",
       "      <th>EnclosedPorch</th>\n",
       "      <th>ScreenPorch</th>\n",
       "      <th>MoSold</th>\n",
       "      <th>SalePrice</th>\n",
       "      <th>CentralAC</th>\n",
       "      <th>Functionality</th>\n",
       "      <th>NeighborhoodMedValue</th>\n",
       "      <th>ZoningMedian</th>\n",
       "      <th>ElectricalCat</th>\n",
       "      <th>Driveway</th>\n",
       "      <th>TotSFInclBsmt</th>\n",
       "      <th>TotalBaths</th>\n",
       "      <th>MedianSFByNeighborhood</th>\n",
       "      <th>MedPPSFNeigh</th>\n",
       "      <th>AvgPPSFNeigh</th>\n",
       "      <th>Alley_0</th>\n",
       "      <th>Alley_Grvl</th>\n",
       "      <th>LotShape_IR1</th>\n",
       "      <th>LotShape_IR2</th>\n",
       "      <th>LotShape_Reg</th>\n",
       "      <th>LandContour_Bnk</th>\n",
       "      <th>LandContour_HLS</th>\n",
       "      <th>LandContour_Low</th>\n",
       "      <th>LotConfig_CulDSac</th>\n",
       "      <th>LotConfig_Inside</th>\n",
       "      <th>LandSlope_Gtl</th>\n",
       "      <th>Neighborhood_BrDale</th>\n",
       "      <th>Neighborhood_BrkSide</th>\n",
       "      <th>Neighborhood_ClearCr</th>\n",
       "      <th>Neighborhood_CollgCr</th>\n",
       "      <th>Neighborhood_Crawfor</th>\n",
       "      <th>Neighborhood_Edwards</th>\n",
       "      <th>Neighborhood_IDOTRR</th>\n",
       "      <th>Neighborhood_MeadowV</th>\n",
       "      <th>Neighborhood_Mitchel</th>\n",
       "      <th>Neighborhood_NAmes</th>\n",
       "      <th>Neighborhood_NoRidge</th>\n",
       "      <th>Neighborhood_NridgHt</th>\n",
       "      <th>Neighborhood_OldTown</th>\n",
       "      <th>Neighborhood_SWISU</th>\n",
       "      <th>Neighborhood_Sawyer</th>\n",
       "      <th>Neighborhood_Somerst</th>\n",
       "      <th>Neighborhood_StoneBr</th>\n",
       "      <th>Neighborhood_Timber</th>\n",
       "      <th>Neighborhood_Veenker</th>\n",
       "      <th>Condition1_Artery</th>\n",
       "      <th>Condition1_Feedr</th>\n",
       "      <th>Condition1_Norm</th>\n",
       "      <th>Condition1_PosN</th>\n",
       "      <th>Condition2_Feedr</th>\n",
       "      <th>Condition2_PosA</th>\n",
       "      <th>Condition2_PosN</th>\n",
       "      <th>BldgType_1Fam</th>\n",
       "      <th>BldgType_2fmCon</th>\n",
       "      <th>BldgType_Duplex</th>\n",
       "      <th>BldgType_Twnhs</th>\n",
       "      <th>HouseStyle_1.5Fin</th>\n",
       "      <th>HouseStyle_1.5Unf</th>\n",
       "      <th>HouseStyle_1Story</th>\n",
       "      <th>HouseStyle_2Story</th>\n",
       "      <th>HouseStyle_SFoyer</th>\n",
       "      <th>RoofStyle_Gable</th>\n",
       "      <th>RoofStyle_Hip</th>\n",
       "      <th>RoofMatl_CompShg</th>\n",
       "      <th>RoofMatl_WdShngl</th>\n",
       "      <th>Exterior1st_AsbShng</th>\n",
       "      <th>Exterior1st_BrkComm</th>\n",
       "      <th>Exterior1st_CemntBd</th>\n",
       "      <th>Exterior1st_HdBoard</th>\n",
       "      <th>Exterior1st_MetalSd</th>\n",
       "      <th>Exterior1st_VinylSd</th>\n",
       "      <th>Exterior1st_Wd Sdng</th>\n",
       "      <th>Exterior1st_WdShing</th>\n",
       "      <th>Exterior2nd_AsbShng</th>\n",
       "      <th>Exterior2nd_CmentBd</th>\n",
       "      <th>Exterior2nd_HdBoard</th>\n",
       "      <th>Exterior2nd_MetalSd</th>\n",
       "      <th>Exterior2nd_Plywood</th>\n",
       "      <th>Exterior2nd_VinylSd</th>\n",
       "      <th>Exterior2nd_Wd Sdng</th>\n",
       "      <th>MasVnrType_0</th>\n",
       "      <th>MasVnrType_BrkFace</th>\n",
       "      <th>MasVnrType_Stone</th>\n",
       "      <th>Foundation_BrkTil</th>\n",
       "      <th>Foundation_CBlock</th>\n",
       "      <th>Foundation_PConc</th>\n",
       "      <th>Foundation_Slab</th>\n",
       "      <th>BsmtExposure_0</th>\n",
       "      <th>BsmtExposure_4</th>\n",
       "      <th>BsmtExposure_Av</th>\n",
       "      <th>BsmtExposure_No</th>\n",
       "      <th>BsmtFinType1_0</th>\n",
       "      <th>BsmtFinType1_ALQ</th>\n",
       "      <th>BsmtFinType1_BLQ</th>\n",
       "      <th>BsmtFinType1_GLQ</th>\n",
       "      <th>BsmtFinType1_LwQ</th>\n",
       "      <th>BsmtFinType1_Rec</th>\n",
       "      <th>BsmtFinType1_Unf</th>\n",
       "      <th>BsmtFinType2_0</th>\n",
       "      <th>BsmtFinType2_BLQ</th>\n",
       "      <th>BsmtFinType2_Unf</th>\n",
       "      <th>Heating_GasA</th>\n",
       "      <th>Heating_Grav</th>\n",
       "      <th>Heating_Wall</th>\n",
       "      <th>Electrical_FuseA</th>\n",
       "      <th>Electrical_FuseF</th>\n",
       "      <th>Electrical_FuseP</th>\n",
       "      <th>Electrical_SBrkr</th>\n",
       "      <th>Functional_Maj2</th>\n",
       "      <th>Functional_Min1</th>\n",
       "      <th>Functional_Min2</th>\n",
       "      <th>Functional_Typ</th>\n",
       "      <th>GarageType_0</th>\n",
       "      <th>GarageType_Attchd</th>\n",
       "      <th>GarageType_BuiltIn</th>\n",
       "      <th>GarageType_CarPort</th>\n",
       "      <th>GarageType_Detchd</th>\n",
       "      <th>GarageFinish_0</th>\n",
       "      <th>GarageFinish_Fin</th>\n",
       "      <th>GarageFinish_RFn</th>\n",
       "      <th>GarageFinish_Unf</th>\n",
       "      <th>Fence_0</th>\n",
       "      <th>Fence_GdWo</th>\n",
       "      <th>Fence_MnPrv</th>\n",
       "      <th>Fence_MnWw</th>\n",
       "      <th>SaleType_COD</th>\n",
       "      <th>SaleType_New</th>\n",
       "      <th>SaleType_WD</th>\n",
       "      <th>SaleCondition_Abnorml</th>\n",
       "      <th>SaleCondition_AdjLand</th>\n",
       "      <th>SaleCondition_Normal</th>\n",
       "      <th>SaleCondition_Partial</th>\n",
       "    </tr>\n",
       "  </thead>\n",
       "  <tbody>\n",
       "    <tr>\n",
       "      <th>0</th>\n",
       "      <td>1</td>\n",
       "      <td>65.0</td>\n",
       "      <td>8450.0</td>\n",
       "      <td>7.0</td>\n",
       "      <td>5</td>\n",
       "      <td>2003.0</td>\n",
       "      <td>2003</td>\n",
       "      <td>200.0</td>\n",
       "      <td>4</td>\n",
       "      <td>4</td>\n",
       "      <td>3</td>\n",
       "      <td>706.0</td>\n",
       "      <td>150.0</td>\n",
       "      <td>856.0</td>\n",
       "      <td>5</td>\n",
       "      <td>856</td>\n",
       "      <td>854</td>\n",
       "      <td>1710.0</td>\n",
       "      <td>1.0</td>\n",
       "      <td>2</td>\n",
       "      <td>1</td>\n",
       "      <td>3</td>\n",
       "      <td>1</td>\n",
       "      <td>4</td>\n",
       "      <td>8.0</td>\n",
       "      <td>0.0</td>\n",
       "      <td>0</td>\n",
       "      <td>2003.0</td>\n",
       "      <td>2.0</td>\n",
       "      <td>548.0</td>\n",
       "      <td>3</td>\n",
       "      <td>3</td>\n",
       "      <td>0.0</td>\n",
       "      <td>50.0</td>\n",
       "      <td>0.0</td>\n",
       "      <td>0</td>\n",
       "      <td>2</td>\n",
       "      <td>208500.0</td>\n",
       "      <td>1</td>\n",
       "      <td>8</td>\n",
       "      <td>197200</td>\n",
       "      <td>174000</td>\n",
       "      <td>1.87</td>\n",
       "      <td>1.69</td>\n",
       "      <td>2566.0</td>\n",
       "      <td>3.2</td>\n",
       "      <td>1500</td>\n",
       "      <td>74.80</td>\n",
       "      <td>75.21</td>\n",
       "      <td>1</td>\n",
       "      <td>0</td>\n",
       "      <td>0</td>\n",
       "      <td>0</td>\n",
       "      <td>1</td>\n",
       "      <td>0</td>\n",
       "      <td>0</td>\n",
       "      <td>0</td>\n",
       "      <td>0</td>\n",
       "      <td>1</td>\n",
       "      <td>1</td>\n",
       "      <td>0</td>\n",
       "      <td>0</td>\n",
       "      <td>0</td>\n",
       "      <td>1</td>\n",
       "      <td>0</td>\n",
       "      <td>0</td>\n",
       "      <td>0</td>\n",
       "      <td>0</td>\n",
       "      <td>0</td>\n",
       "      <td>0</td>\n",
       "      <td>0</td>\n",
       "      <td>0</td>\n",
       "      <td>0</td>\n",
       "      <td>0</td>\n",
       "      <td>0</td>\n",
       "      <td>0</td>\n",
       "      <td>0</td>\n",
       "      <td>0</td>\n",
       "      <td>0</td>\n",
       "      <td>0</td>\n",
       "      <td>0</td>\n",
       "      <td>1</td>\n",
       "      <td>0</td>\n",
       "      <td>0</td>\n",
       "      <td>0</td>\n",
       "      <td>0</td>\n",
       "      <td>1</td>\n",
       "      <td>0</td>\n",
       "      <td>0</td>\n",
       "      <td>0</td>\n",
       "      <td>0</td>\n",
       "      <td>0</td>\n",
       "      <td>0</td>\n",
       "      <td>1</td>\n",
       "      <td>0</td>\n",
       "      <td>1</td>\n",
       "      <td>0</td>\n",
       "      <td>1</td>\n",
       "      <td>0</td>\n",
       "      <td>0</td>\n",
       "      <td>0</td>\n",
       "      <td>0</td>\n",
       "      <td>0</td>\n",
       "      <td>0</td>\n",
       "      <td>1</td>\n",
       "      <td>0</td>\n",
       "      <td>0</td>\n",
       "      <td>0</td>\n",
       "      <td>0</td>\n",
       "      <td>0</td>\n",
       "      <td>0</td>\n",
       "      <td>0</td>\n",
       "      <td>1</td>\n",
       "      <td>0</td>\n",
       "      <td>0</td>\n",
       "      <td>1</td>\n",
       "      <td>0</td>\n",
       "      <td>0</td>\n",
       "      <td>0</td>\n",
       "      <td>1</td>\n",
       "      <td>0</td>\n",
       "      <td>0</td>\n",
       "      <td>0</td>\n",
       "      <td>0</td>\n",
       "      <td>1</td>\n",
       "      <td>0</td>\n",
       "      <td>0</td>\n",
       "      <td>0</td>\n",
       "      <td>1</td>\n",
       "      <td>0</td>\n",
       "      <td>0</td>\n",
       "      <td>0</td>\n",
       "      <td>0</td>\n",
       "      <td>0</td>\n",
       "      <td>1</td>\n",
       "      <td>1</td>\n",
       "      <td>0</td>\n",
       "      <td>0</td>\n",
       "      <td>0</td>\n",
       "      <td>0</td>\n",
       "      <td>0</td>\n",
       "      <td>1</td>\n",
       "      <td>0</td>\n",
       "      <td>0</td>\n",
       "      <td>0</td>\n",
       "      <td>1</td>\n",
       "      <td>0</td>\n",
       "      <td>1</td>\n",
       "      <td>0</td>\n",
       "      <td>0</td>\n",
       "      <td>0</td>\n",
       "      <td>0</td>\n",
       "      <td>0</td>\n",
       "      <td>1</td>\n",
       "      <td>0</td>\n",
       "      <td>1</td>\n",
       "      <td>0</td>\n",
       "      <td>0</td>\n",
       "      <td>0</td>\n",
       "      <td>0</td>\n",
       "      <td>0</td>\n",
       "      <td>1</td>\n",
       "      <td>0</td>\n",
       "      <td>0</td>\n",
       "      <td>1</td>\n",
       "      <td>0</td>\n",
       "    </tr>\n",
       "    <tr>\n",
       "      <th>1</th>\n",
       "      <td>2</td>\n",
       "      <td>80.0</td>\n",
       "      <td>9600.0</td>\n",
       "      <td>6.0</td>\n",
       "      <td>8</td>\n",
       "      <td>1976.0</td>\n",
       "      <td>1976</td>\n",
       "      <td>0.0</td>\n",
       "      <td>3</td>\n",
       "      <td>4</td>\n",
       "      <td>3</td>\n",
       "      <td>978.0</td>\n",
       "      <td>284.0</td>\n",
       "      <td>1262.0</td>\n",
       "      <td>5</td>\n",
       "      <td>1262</td>\n",
       "      <td>0</td>\n",
       "      <td>1262.0</td>\n",
       "      <td>0.0</td>\n",
       "      <td>2</td>\n",
       "      <td>0</td>\n",
       "      <td>3</td>\n",
       "      <td>1</td>\n",
       "      <td>3</td>\n",
       "      <td>6.0</td>\n",
       "      <td>1.0</td>\n",
       "      <td>3</td>\n",
       "      <td>1976.0</td>\n",
       "      <td>2.0</td>\n",
       "      <td>460.0</td>\n",
       "      <td>3</td>\n",
       "      <td>3</td>\n",
       "      <td>300.0</td>\n",
       "      <td>0.0</td>\n",
       "      <td>0.0</td>\n",
       "      <td>0</td>\n",
       "      <td>5</td>\n",
       "      <td>181500.0</td>\n",
       "      <td>1</td>\n",
       "      <td>8</td>\n",
       "      <td>218000</td>\n",
       "      <td>174000</td>\n",
       "      <td>1.87</td>\n",
       "      <td>1.69</td>\n",
       "      <td>2524.0</td>\n",
       "      <td>2.2</td>\n",
       "      <td>1437</td>\n",
       "      <td>78.47</td>\n",
       "      <td>82.09</td>\n",
       "      <td>1</td>\n",
       "      <td>0</td>\n",
       "      <td>0</td>\n",
       "      <td>0</td>\n",
       "      <td>1</td>\n",
       "      <td>0</td>\n",
       "      <td>0</td>\n",
       "      <td>0</td>\n",
       "      <td>0</td>\n",
       "      <td>0</td>\n",
       "      <td>1</td>\n",
       "      <td>0</td>\n",
       "      <td>0</td>\n",
       "      <td>0</td>\n",
       "      <td>0</td>\n",
       "      <td>0</td>\n",
       "      <td>0</td>\n",
       "      <td>0</td>\n",
       "      <td>0</td>\n",
       "      <td>0</td>\n",
       "      <td>0</td>\n",
       "      <td>0</td>\n",
       "      <td>0</td>\n",
       "      <td>0</td>\n",
       "      <td>0</td>\n",
       "      <td>0</td>\n",
       "      <td>0</td>\n",
       "      <td>0</td>\n",
       "      <td>0</td>\n",
       "      <td>1</td>\n",
       "      <td>0</td>\n",
       "      <td>1</td>\n",
       "      <td>0</td>\n",
       "      <td>0</td>\n",
       "      <td>0</td>\n",
       "      <td>0</td>\n",
       "      <td>0</td>\n",
       "      <td>1</td>\n",
       "      <td>0</td>\n",
       "      <td>0</td>\n",
       "      <td>0</td>\n",
       "      <td>0</td>\n",
       "      <td>0</td>\n",
       "      <td>1</td>\n",
       "      <td>0</td>\n",
       "      <td>0</td>\n",
       "      <td>1</td>\n",
       "      <td>0</td>\n",
       "      <td>1</td>\n",
       "      <td>0</td>\n",
       "      <td>0</td>\n",
       "      <td>0</td>\n",
       "      <td>0</td>\n",
       "      <td>0</td>\n",
       "      <td>1</td>\n",
       "      <td>0</td>\n",
       "      <td>0</td>\n",
       "      <td>0</td>\n",
       "      <td>0</td>\n",
       "      <td>0</td>\n",
       "      <td>0</td>\n",
       "      <td>1</td>\n",
       "      <td>0</td>\n",
       "      <td>0</td>\n",
       "      <td>0</td>\n",
       "      <td>1</td>\n",
       "      <td>0</td>\n",
       "      <td>0</td>\n",
       "      <td>0</td>\n",
       "      <td>1</td>\n",
       "      <td>0</td>\n",
       "      <td>0</td>\n",
       "      <td>0</td>\n",
       "      <td>1</td>\n",
       "      <td>0</td>\n",
       "      <td>0</td>\n",
       "      <td>0</td>\n",
       "      <td>1</td>\n",
       "      <td>0</td>\n",
       "      <td>0</td>\n",
       "      <td>0</td>\n",
       "      <td>0</td>\n",
       "      <td>0</td>\n",
       "      <td>0</td>\n",
       "      <td>0</td>\n",
       "      <td>1</td>\n",
       "      <td>1</td>\n",
       "      <td>0</td>\n",
       "      <td>0</td>\n",
       "      <td>0</td>\n",
       "      <td>0</td>\n",
       "      <td>0</td>\n",
       "      <td>1</td>\n",
       "      <td>0</td>\n",
       "      <td>0</td>\n",
       "      <td>0</td>\n",
       "      <td>1</td>\n",
       "      <td>0</td>\n",
       "      <td>1</td>\n",
       "      <td>0</td>\n",
       "      <td>0</td>\n",
       "      <td>0</td>\n",
       "      <td>0</td>\n",
       "      <td>0</td>\n",
       "      <td>1</td>\n",
       "      <td>0</td>\n",
       "      <td>1</td>\n",
       "      <td>0</td>\n",
       "      <td>0</td>\n",
       "      <td>0</td>\n",
       "      <td>0</td>\n",
       "      <td>0</td>\n",
       "      <td>1</td>\n",
       "      <td>0</td>\n",
       "      <td>0</td>\n",
       "      <td>1</td>\n",
       "      <td>0</td>\n",
       "    </tr>\n",
       "  </tbody>\n",
       "</table>\n",
       "</div>"
      ],
      "text/plain": [
       "   Id  LotFrontage  LotArea  OverallQual  OverallCond  YearBuilt  \\\n",
       "0   1         65.0   8450.0          7.0            5     2003.0   \n",
       "1   2         80.0   9600.0          6.0            8     1976.0   \n",
       "\n",
       "   YearRemodAdd  MasVnrArea  ExterQual  BsmtQual  BsmtCond  BsmtFinSF1  \\\n",
       "0          2003       200.0          4         4         3       706.0   \n",
       "1          1976         0.0          3         4         3       978.0   \n",
       "\n",
       "   BsmtUnfSF  TotalBsmtSF  HeatingQC  1stFlrSF  2ndFlrSF  GrLivArea  \\\n",
       "0      150.0        856.0          5       856       854     1710.0   \n",
       "1      284.0       1262.0          5      1262         0     1262.0   \n",
       "\n",
       "   BsmtFullBath  FullBath  HalfBath  BedroomAbvGr  KitchenAbvGr  KitchenQual  \\\n",
       "0           1.0         2         1             3             1            4   \n",
       "1           0.0         2         0             3             1            3   \n",
       "\n",
       "   TotRmsAbvGrd  Fireplaces  FireplaceQu  GarageYrBlt  GarageCars  GarageArea  \\\n",
       "0           8.0         0.0            0       2003.0         2.0       548.0   \n",
       "1           6.0         1.0            3       1976.0         2.0       460.0   \n",
       "\n",
       "   GarageQual  GarageCond  WoodDeckSF  OpenPorchSF  EnclosedPorch  \\\n",
       "0           3           3         0.0         50.0            0.0   \n",
       "1           3           3       300.0          0.0            0.0   \n",
       "\n",
       "   ScreenPorch  MoSold  SalePrice  CentralAC  Functionality  \\\n",
       "0            0       2   208500.0          1              8   \n",
       "1            0       5   181500.0          1              8   \n",
       "\n",
       "   NeighborhoodMedValue  ZoningMedian  ElectricalCat  Driveway  TotSFInclBsmt  \\\n",
       "0                197200        174000           1.87      1.69         2566.0   \n",
       "1                218000        174000           1.87      1.69         2524.0   \n",
       "\n",
       "   TotalBaths  MedianSFByNeighborhood  MedPPSFNeigh  AvgPPSFNeigh  Alley_0  \\\n",
       "0         3.2                    1500         74.80         75.21        1   \n",
       "1         2.2                    1437         78.47         82.09        1   \n",
       "\n",
       "   Alley_Grvl  LotShape_IR1  LotShape_IR2  LotShape_Reg  LandContour_Bnk  \\\n",
       "0           0             0             0             1                0   \n",
       "1           0             0             0             1                0   \n",
       "\n",
       "   LandContour_HLS  LandContour_Low  LotConfig_CulDSac  LotConfig_Inside  \\\n",
       "0                0                0                  0                 1   \n",
       "1                0                0                  0                 0   \n",
       "\n",
       "   LandSlope_Gtl  Neighborhood_BrDale  Neighborhood_BrkSide  \\\n",
       "0              1                    0                     0   \n",
       "1              1                    0                     0   \n",
       "\n",
       "   Neighborhood_ClearCr  Neighborhood_CollgCr  Neighborhood_Crawfor  \\\n",
       "0                     0                     1                     0   \n",
       "1                     0                     0                     0   \n",
       "\n",
       "   Neighborhood_Edwards  Neighborhood_IDOTRR  Neighborhood_MeadowV  \\\n",
       "0                     0                    0                     0   \n",
       "1                     0                    0                     0   \n",
       "\n",
       "   Neighborhood_Mitchel  Neighborhood_NAmes  Neighborhood_NoRidge  \\\n",
       "0                     0                   0                     0   \n",
       "1                     0                   0                     0   \n",
       "\n",
       "   Neighborhood_NridgHt  Neighborhood_OldTown  Neighborhood_SWISU  \\\n",
       "0                     0                     0                   0   \n",
       "1                     0                     0                   0   \n",
       "\n",
       "   Neighborhood_Sawyer  Neighborhood_Somerst  Neighborhood_StoneBr  \\\n",
       "0                    0                     0                     0   \n",
       "1                    0                     0                     0   \n",
       "\n",
       "   Neighborhood_Timber  Neighborhood_Veenker  Condition1_Artery  \\\n",
       "0                    0                     0                  0   \n",
       "1                    0                     1                  0   \n",
       "\n",
       "   Condition1_Feedr  Condition1_Norm  Condition1_PosN  Condition2_Feedr  \\\n",
       "0                 0                1                0                 0   \n",
       "1                 1                0                0                 0   \n",
       "\n",
       "   Condition2_PosA  Condition2_PosN  BldgType_1Fam  BldgType_2fmCon  \\\n",
       "0                0                0              1                0   \n",
       "1                0                0              1                0   \n",
       "\n",
       "   BldgType_Duplex  BldgType_Twnhs  HouseStyle_1.5Fin  HouseStyle_1.5Unf  \\\n",
       "0                0               0                  0                  0   \n",
       "1                0               0                  0                  0   \n",
       "\n",
       "   HouseStyle_1Story  HouseStyle_2Story  HouseStyle_SFoyer  RoofStyle_Gable  \\\n",
       "0                  0                  1                  0                1   \n",
       "1                  1                  0                  0                1   \n",
       "\n",
       "   RoofStyle_Hip  RoofMatl_CompShg  RoofMatl_WdShngl  Exterior1st_AsbShng  \\\n",
       "0              0                 1                 0                    0   \n",
       "1              0                 1                 0                    0   \n",
       "\n",
       "   Exterior1st_BrkComm  Exterior1st_CemntBd  Exterior1st_HdBoard  \\\n",
       "0                    0                    0                    0   \n",
       "1                    0                    0                    0   \n",
       "\n",
       "   Exterior1st_MetalSd  Exterior1st_VinylSd  Exterior1st_Wd Sdng  \\\n",
       "0                    0                    1                    0   \n",
       "1                    1                    0                    0   \n",
       "\n",
       "   Exterior1st_WdShing  Exterior2nd_AsbShng  Exterior2nd_CmentBd  \\\n",
       "0                    0                    0                    0   \n",
       "1                    0                    0                    0   \n",
       "\n",
       "   Exterior2nd_HdBoard  Exterior2nd_MetalSd  Exterior2nd_Plywood  \\\n",
       "0                    0                    0                    0   \n",
       "1                    0                    1                    0   \n",
       "\n",
       "   Exterior2nd_VinylSd  Exterior2nd_Wd Sdng  MasVnrType_0  MasVnrType_BrkFace  \\\n",
       "0                    1                    0             0                   1   \n",
       "1                    0                    0             1                   0   \n",
       "\n",
       "   MasVnrType_Stone  Foundation_BrkTil  Foundation_CBlock  Foundation_PConc  \\\n",
       "0                 0                  0                  0                 1   \n",
       "1                 0                  0                  1                 0   \n",
       "\n",
       "   Foundation_Slab  BsmtExposure_0  BsmtExposure_4  BsmtExposure_Av  \\\n",
       "0                0               0               0                0   \n",
       "1                0               0               1                0   \n",
       "\n",
       "   BsmtExposure_No  BsmtFinType1_0  BsmtFinType1_ALQ  BsmtFinType1_BLQ  \\\n",
       "0                1               0                 0                 0   \n",
       "1                0               0                 1                 0   \n",
       "\n",
       "   BsmtFinType1_GLQ  BsmtFinType1_LwQ  BsmtFinType1_Rec  BsmtFinType1_Unf  \\\n",
       "0                 1                 0                 0                 0   \n",
       "1                 0                 0                 0                 0   \n",
       "\n",
       "   BsmtFinType2_0  BsmtFinType2_BLQ  BsmtFinType2_Unf  Heating_GasA  \\\n",
       "0               0                 0                 1             1   \n",
       "1               0                 0                 1             1   \n",
       "\n",
       "   Heating_Grav  Heating_Wall  Electrical_FuseA  Electrical_FuseF  \\\n",
       "0             0             0                 0                 0   \n",
       "1             0             0                 0                 0   \n",
       "\n",
       "   Electrical_FuseP  Electrical_SBrkr  Functional_Maj2  Functional_Min1  \\\n",
       "0                 0                 1                0                0   \n",
       "1                 0                 1                0                0   \n",
       "\n",
       "   Functional_Min2  Functional_Typ  GarageType_0  GarageType_Attchd  \\\n",
       "0                0               1             0                  1   \n",
       "1                0               1             0                  1   \n",
       "\n",
       "   GarageType_BuiltIn  GarageType_CarPort  GarageType_Detchd  GarageFinish_0  \\\n",
       "0                   0                   0                  0               0   \n",
       "1                   0                   0                  0               0   \n",
       "\n",
       "   GarageFinish_Fin  GarageFinish_RFn  GarageFinish_Unf  Fence_0  Fence_GdWo  \\\n",
       "0                 0                 1                 0        1           0   \n",
       "1                 0                 1                 0        1           0   \n",
       "\n",
       "   Fence_MnPrv  Fence_MnWw  SaleType_COD  SaleType_New  SaleType_WD  \\\n",
       "0            0           0             0             0            1   \n",
       "1            0           0             0             0            1   \n",
       "\n",
       "   SaleCondition_Abnorml  SaleCondition_AdjLand  SaleCondition_Normal  \\\n",
       "0                      0                      0                     1   \n",
       "1                      0                      0                     1   \n",
       "\n",
       "   SaleCondition_Partial  \n",
       "0                      0  \n",
       "1                      0  "
      ]
     },
     "execution_count": 449,
     "metadata": {},
     "output_type": "execute_result"
    }
   ],
   "source": [
    "corr_matrix=Train_All_Data.corr()\n",
    "corr_list=corr_matrix['SalePrice'].sort_values(ascending=False)\n",
    "corr_df=pd.DataFrame(corr_list)\n",
    "corr_df.reset_index().head(1)\n",
    "## Turn into a list to loop through  0.08\n",
    "drop_list=corr_df.loc[(corr_df['SalePrice']<0.05) & (corr_df['SalePrice']> -0.05)]\n",
    "        \n",
    "drop_list.reset_index(inplace=True)\n",
    "drop_list['index']\n",
    "\n",
    "cols=drop_list['index'].tolist()\n",
    "\n",
    "All_Reduced=All_Data.copy()\n",
    "\n",
    "for each in cols:\n",
    "    All_Reduced.drop(each, axis=1, inplace=True)\n",
    "    \n",
    "All_Reduced.drop('MSSubClass', axis=1, inplace=True)\n",
    "\n",
    "        \n",
    "All_Reduced.head(2)"
   ]
  },
  {
   "cell_type": "code",
   "execution_count": 450,
   "metadata": {},
   "outputs": [],
   "source": [
    "Train_Reduced=All_Reduced.copy()\n",
    "Train_Reduced=Train_Reduced.loc[Train_Reduced['Id']<=1460]\n",
    "Train_Reduced.drop('Id', axis=1, inplace=True)"
   ]
  },
  {
   "cell_type": "code",
   "execution_count": 451,
   "metadata": {},
   "outputs": [
    {
     "data": {
      "text/plain": [
       "450000.0"
      ]
     },
     "execution_count": 451,
     "metadata": {},
     "output_type": "execute_result"
    }
   ],
   "source": [
    "#Train_Reduced['SalePrice'].hist()\n",
    "Train_Reduced.loc[Train_Reduced['SalePrice']>450000, 'SalePrice']=np.nan\n",
    "Train_Reduced.fillna(450000, inplace=True)\n",
    "Train_Reduced.SalePrice.max()"
   ]
  },
  {
   "cell_type": "code",
   "execution_count": 452,
   "metadata": {},
   "outputs": [],
   "source": [
    "RX=Train_Reduced.drop('SalePrice', axis=1)\n",
    "Ry=Train_Reduced['SalePrice']"
   ]
  },
  {
   "cell_type": "code",
   "execution_count": 454,
   "metadata": {},
   "outputs": [
    {
     "data": {
      "text/plain": [
       "RandomizedSearchCV(cv=5, error_score=nan,\n",
       "                   estimator=GradientBoostingRegressor(alpha=0.9, ccp_alpha=0.0,\n",
       "                                                       criterion='friedman_mse',\n",
       "                                                       init=None,\n",
       "                                                       learning_rate=0.1,\n",
       "                                                       loss='ls', max_depth=3,\n",
       "                                                       max_features=None,\n",
       "                                                       max_leaf_nodes=None,\n",
       "                                                       min_impurity_decrease=0.0,\n",
       "                                                       min_impurity_split=None,\n",
       "                                                       min_samples_leaf=1,\n",
       "                                                       min_samples_split=2,\n",
       "                                                       min_weight_fraction_leaf=0.0,\n",
       "                                                       n_estimators=100,\n",
       "                                                       n_...\n",
       "                                                       validation_fraction=0.1,\n",
       "                                                       verbose=0,\n",
       "                                                       warm_start=False),\n",
       "                   iid='deprecated', n_iter=10, n_jobs=None,\n",
       "                   param_distributions={'learning_rate': [0.01, 0.005],\n",
       "                                        'max_depth': [3],\n",
       "                                        'min_samples_split': [3, 4],\n",
       "                                        'n_estimators': [2000, 3000],\n",
       "                                        'subsample': [1, 0.8, 0.75]},\n",
       "                   pre_dispatch='2*n_jobs', random_state=None, refit=True,\n",
       "                   return_train_score=False,\n",
       "                   scoring='neg_mean_squared_log_error', verbose=0)"
      ]
     },
     "execution_count": 454,
     "metadata": {},
     "output_type": "execute_result"
    }
   ],
   "source": [
    "RGBR_CV=GradientBoostingRegressor()\n",
    "\n",
    "grid= {\n",
    "    'learning_rate': [0.01, 0.005],\n",
    "    'n_estimators': [2000, 3000],\n",
    "    'subsample': [1, 0.8, 0.75],\n",
    "    'min_samples_split': [3, 4],\n",
    "    'max_depth': [3]\n",
    "}\n",
    "\n",
    "GBR_Reduced=RandomizedSearchCV(RGBR_CV, grid, scoring='neg_mean_squared_log_error', cv=5)\n",
    "\n",
    "GBR_Reduced.fit(RX, Ry)"
   ]
  },
  {
   "cell_type": "code",
   "execution_count": 436,
   "metadata": {},
   "outputs": [
    {
     "data": {
      "text/plain": [
       "{'subsample': 0.9,\n",
       " 'n_estimators': 3000,\n",
       " 'min_samples_split': 3,\n",
       " 'max_depth': 3,\n",
       " 'learning_rate': 0.01}"
      ]
     },
     "execution_count": 436,
     "metadata": {},
     "output_type": "execute_result"
    }
   ],
   "source": [
    "GBR_Reduced.best_params_"
   ]
  },
  {
   "cell_type": "code",
   "execution_count": null,
   "metadata": {},
   "outputs": [],
   "source": []
  },
  {
   "cell_type": "code",
   "execution_count": 428,
   "metadata": {},
   "outputs": [],
   "source": [
    "Test_Reduced=All_Reduced.copy()\n",
    "Test_Reduced=Test_Reduced.loc[Test_Reduced['Id']>=1461]\n",
    "Test_Reduced.drop('SalePrice', axis=1, inplace=True)"
   ]
  },
  {
   "cell_type": "code",
   "execution_count": 430,
   "metadata": {},
   "outputs": [],
   "source": [
    "RX_Test=Test_Reduced.drop('Id', axis=1)\n",
    "Test_IDs=Test_Reduced['Id']"
   ]
  },
  {
   "cell_type": "code",
   "execution_count": 441,
   "metadata": {},
   "outputs": [],
   "source": [
    "GBR_R_predictions=GBR_Reduced.predict(RX_Test)"
   ]
  },
  {
   "cell_type": "code",
   "execution_count": 442,
   "metadata": {},
   "outputs": [],
   "source": [
    "Submission=pd.DataFrame({\n",
    "    'ID': Test_IDs,\n",
    "    'SalePrice': GBR_R_predictions\n",
    "})"
   ]
  },
  {
   "cell_type": "code",
   "execution_count": 455,
   "metadata": {},
   "outputs": [
    {
     "data": {
      "text/html": [
       "<div>\n",
       "<style scoped>\n",
       "    .dataframe tbody tr th:only-of-type {\n",
       "        vertical-align: middle;\n",
       "    }\n",
       "\n",
       "    .dataframe tbody tr th {\n",
       "        vertical-align: top;\n",
       "    }\n",
       "\n",
       "    .dataframe thead th {\n",
       "        text-align: right;\n",
       "    }\n",
       "</style>\n",
       "<table border=\"1\" class=\"dataframe\">\n",
       "  <thead>\n",
       "    <tr style=\"text-align: right;\">\n",
       "      <th></th>\n",
       "      <th>ID</th>\n",
       "      <th>SalePrice</th>\n",
       "    </tr>\n",
       "  </thead>\n",
       "  <tbody>\n",
       "    <tr>\n",
       "      <th>1460</th>\n",
       "      <td>1461</td>\n",
       "      <td>129637.730220</td>\n",
       "    </tr>\n",
       "    <tr>\n",
       "      <th>1461</th>\n",
       "      <td>1462</td>\n",
       "      <td>162699.751050</td>\n",
       "    </tr>\n",
       "    <tr>\n",
       "      <th>1462</th>\n",
       "      <td>1463</td>\n",
       "      <td>192113.728028</td>\n",
       "    </tr>\n",
       "    <tr>\n",
       "      <th>1463</th>\n",
       "      <td>1464</td>\n",
       "      <td>190053.675879</td>\n",
       "    </tr>\n",
       "    <tr>\n",
       "      <th>1464</th>\n",
       "      <td>1465</td>\n",
       "      <td>182053.698050</td>\n",
       "    </tr>\n",
       "  </tbody>\n",
       "</table>\n",
       "</div>"
      ],
      "text/plain": [
       "        ID      SalePrice\n",
       "1460  1461  129637.730220\n",
       "1461  1462  162699.751050\n",
       "1462  1463  192113.728028\n",
       "1463  1464  190053.675879\n",
       "1464  1465  182053.698050"
      ]
     },
     "execution_count": 455,
     "metadata": {},
     "output_type": "execute_result"
    }
   ],
   "source": [
    "Submission.head()"
   ]
  },
  {
   "cell_type": "code",
   "execution_count": 443,
   "metadata": {
    "scrolled": true
   },
   "outputs": [
    {
     "data": {
      "text/plain": [
       "<matplotlib.axes._subplots.AxesSubplot at 0x2a971f24348>"
      ]
     },
     "execution_count": 443,
     "metadata": {},
     "output_type": "execute_result"
    },
    {
     "data": {
      "image/png": "[encoded data removed]",
      "text/plain": [
       "<Figure size 432x288 with 1 Axes>"
      ]
     },
     "metadata": {
      "needs_background": "light"
     },
     "output_type": "display_data"
    }
   ],
   "source": [
    "Submission['SalePrice'].hist()"
   ]
  },
  {
   "cell_type": "code",
   "execution_count": 444,
   "metadata": {},
   "outputs": [],
   "source": [
    "Submission.to_csv(r'C:\\Users\\chris\\OneDrive\\Documents\\Extracurricular_projects\\Ames_Iowa_Predictions\\Kaggle_Housing_Prices\\submission13.csv', index=False, header=True)"
   ]
  },
  {
   "cell_type": "code",
   "execution_count": null,
   "metadata": {},
   "outputs": [],
   "source": []
  }
 ],
 "metadata": {
  "kernelspec": {
   "display_name": "Python 3",
   "language": "python",
   "name": "python3"
  },
  "language_info": {
   "codemirror_mode": {
    "name": "ipython",
    "version": 3
   },
   "file_extension": ".py",
   "mimetype": "text/x-python",
   "name": "python",
   "nbconvert_exporter": "python",
   "pygments_lexer": "ipython3",
   "version": "3.7.6"
  }
 },
 "nbformat": 4,
 "nbformat_minor": 4
}
